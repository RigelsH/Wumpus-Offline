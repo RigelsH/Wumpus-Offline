{
 "cells": [
  {
   "cell_type": "code",
   "execution_count": 7,
   "metadata": {},
   "outputs": [
    {
     "name": "stdout",
     "output_type": "stream",
     "text": [
      "The autoreload extension is already loaded. To reload it, use:\n",
      "  %reload_ext autoreload\n"
     ]
    }
   ],
   "source": [
    "import sys\n",
    "sys.path.append(\"../\")\n",
    "\n",
    "import json\n",
    "import networkx as nx\n",
    "import wumpus\n",
    "from utils import json2graph, Agent\n",
    "\n",
    "%load_ext autoreload\n",
    "%autoreload 2"
   ]
  },
  {
   "attachments": {},
   "cell_type": "markdown",
   "metadata": {},
   "source": [
    "# Construct graph from JSON"
   ]
  },
  {
   "cell_type": "code",
   "execution_count": 15,
   "metadata": {},
   "outputs": [
    {
     "name": "stdout",
     "output_type": "stream",
     "text": [
      "┌───┬───┬───┬───┐\n",
      "│   │W  │   │   │\n",
      "│   │   │   │   │\n",
      "├───┼───┼───┼───┤\n",
      "│   │   │ G │   │\n",
      "│   │   │   │   │\n",
      "├───┼───┼───┼───┤\n",
      "│  P│   │   │  P│\n",
      "│   │   │   │   │\n",
      "├───┼───┼───┼───┤\n",
      "│   │  P│   │  P│\n",
      "│ @^│   │   │   │\n",
      "└───┴───┴───┴───┘\n"
     ]
    }
   ],
   "source": [
    "with open(\"../data/wumpus_world_custom_00.json\") as fd:\n",
    "    world_json = json.load(fd)\n",
    "\n",
    "print(wumpus.WumpusWorld.from_JSON(world_json))"
   ]
  },
  {
   "cell_type": "code",
   "execution_count": 9,
   "metadata": {},
   "outputs": [
    {
     "data": {
      "text/plain": [
       "{(0, 2): {}, (2, 2): {}, (1, 1): {}, (1, 3): {}}"
      ]
     },
     "execution_count": 9,
     "metadata": {},
     "output_type": "execute_result"
    }
   ],
   "source": [
    "G = json2graph(world_json)\n",
    "G_dict = nx.to_dict_of_dicts(G)\n",
    "G_dict[(1,2)]"
   ]
  },
  {
   "attachments": {},
   "cell_type": "markdown",
   "metadata": {},
   "source": [
    "# Transform path into actions "
   ]
  },
  {
   "cell_type": "code",
   "execution_count": 13,
   "metadata": {},
   "outputs": [
    {
     "data": {
      "text/plain": [
       "['Move', 'Grab', 'Right', 'Right', 'Move', 'Climb']"
      ]
     },
     "execution_count": 13,
     "metadata": {},
     "output_type": "execute_result"
    }
   ],
   "source": [
    "a = Agent(\n",
    "    hunter_location=(0,0),\n",
    "    gold_location=(0,1),\n",
    "    wumpus_location=(2,0)\n",
    ")\n",
    "a.navigate(path=[(0,0),(0,1),(0,0)])"
   ]
  },
  {
   "cell_type": "code",
   "execution_count": null,
   "metadata": {},
   "outputs": [],
   "source": []
  },
  {
   "cell_type": "code",
   "execution_count": null,
   "metadata": {},
   "outputs": [],
   "source": []
  },
  {
   "cell_type": "code",
   "execution_count": null,
   "metadata": {},
   "outputs": [],
   "source": []
  },
  {
   "cell_type": "code",
   "execution_count": null,
   "metadata": {},
   "outputs": [],
   "source": []
  }
 ],
 "metadata": {
  "kernelspec": {
   "display_name": "ailab2022",
   "language": "python",
   "name": "python3"
  },
  "language_info": {
   "codemirror_mode": {
    "name": "ipython",
    "version": 3
   },
   "file_extension": ".py",
   "mimetype": "text/x-python",
   "name": "python",
   "nbconvert_exporter": "python",
   "pygments_lexer": "ipython3",
   "version": "3.10.10"
  },
  "orig_nbformat": 4
 },
 "nbformat": 4,
 "nbformat_minor": 2
}

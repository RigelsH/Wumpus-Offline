{
 "cells": [
  {
   "cell_type": "markdown",
   "metadata": {},
   "source": [
    "# Notes on the use of Wumpus API"
   ]
  },
  {
   "cell_type": "markdown",
   "metadata": {},
   "source": [
    "See also the [wumpus_usage.py](https://gitlab.inf.unibz.it/tessaris/wumpus/-/blob/master/examples/wumpus_usage.py) file in the [wumpus package source code](https://gitlab.inf.unibz.it/tessaris/wumpus/-/tree/master)."
   ]
  },
  {
   "cell_type": "code",
   "execution_count": 24,
   "metadata": {},
   "outputs": [],
   "source": [
    "import wumpus"
   ]
  },
  {
   "cell_type": "markdown",
   "metadata": {},
   "source": [
    "## World creation\n",
    "\n",
    "Worlds can be created randomly or from a JSON description."
   ]
  },
  {
   "cell_type": "markdown",
   "metadata": {},
   "source": [
    "Using a specific description of the world it's useful to test corner cases or understunding the behaviour of your agent. To do so you could use a JSON-formated string or file object with the class method `wumpus.WumpusWorld.from_JSON`; e.g.,"
   ]
  },
  {
   "cell_type": "code",
   "execution_count": 25,
   "metadata": {},
   "outputs": [
    {
     "name": "stdout",
     "output_type": "stream",
     "text": [
      "┌───┬───┬───┬───┬───┬───┬───┐\n",
      "│   │   │   │   │  P│  P│   │\n",
      "│   │   │   │   │   │   │   │\n",
      "├───┼───┼───┼───┼───┼───┼───┤\n",
      "│   │   │   │  P│   │   │   │\n",
      "│   │   │   │   │   │   │   │\n",
      "├───┼───┼───┼───┼───┼───┼───┤\n",
      "│   │   │   │   │  P│   │   │\n",
      "│   │   │   │   │   │   │   │\n",
      "├───┼───┼───┼───┼───┼───┼───┤\n",
      "│   │   │   │ G │   │   │ G │\n",
      "│   │   │   │   │   │   │   │\n",
      "├───┼───┼───┼───┼───┼───┼───┤\n",
      "│   │W  │  P│   │   │   │  P│\n",
      "│   │   │   │   │   │   │   │\n",
      "├───┼───┼───┼───┼───┼───┼───┤\n",
      "│   │   │   │  P│   │   │   │\n",
      "│   │   │   │   │   │   │   │\n",
      "├───┼───┼───┼───┼───┼───┼───┤\n",
      "│   │   │   │   │  P│   │   │\n",
      "│ @^│   │   │   │   │   │   │\n",
      "└───┴───┴───┴───┴───┴───┴───┘\n"
     ]
    }
   ],
   "source": [
    "world_json = '''\n",
    "{\n",
    "  \"id\": \"simple wumpus world\",\n",
    "  \"size\": [7, 7],\n",
    "  \"hunters\": [[0, 0, \"N\"]],\n",
    "  \"pits\": [[4, 0], [3, 1], [2, 2], [6, 2], [4, 4], [3, 5], [4, 6], [5, 6]],\n",
    "  \"wumpuses\": [[1, 2]],\n",
    "  \"exits\": [[0, 0]],\n",
    "  \"golds\": [[6, 3], [3, 3]],\n",
    "  \"blocks\": []\n",
    "}\n",
    "'''\n",
    "print(wumpus.WumpusWorld.from_JSON(world_json))"
   ]
  },
  {
   "cell_type": "markdown",
   "metadata": {},
   "source": [
    "The `wumpus.WumpusWorld.classic` class method can be used to create a random world and the `wumpus.WumpusWorld.to_JSONs` can be used to get the JSON string representing the world:"
   ]
  },
  {
   "cell_type": "code",
   "execution_count": 32,
   "metadata": {},
   "outputs": [
    {
     "name": "stdout",
     "output_type": "stream",
     "text": [
      "┌───┬───┬───┬───┬───┬───┐\n",
      "│   │   │  P│   │  P│  P│\n",
      "│   │   │   │   │   │   │\n",
      "├───┼───┼───┼───┼───┼───┤\n",
      "│   │   │   │   │   │  P│\n",
      "│   │   │   │   │   │   │\n",
      "├───┼───┼───┼───┼───┼───┤\n",
      "│  P│   │  P│   │   │   │\n",
      "│   │   │   │   │   │   │\n",
      "├───┼───┼───┼───┼───┼───┤\n",
      "│   │  P│   │   │  P│   │\n",
      "│   │   │   │   │   │   │\n",
      "├───┼───┼───┼───┼───┼───┤\n",
      "│   │ G │   │   │  P│  P│\n",
      "│   │   │   │   │   │   │\n",
      "├───┼───┼───┼───┼───┼───┤\n",
      "│   │   │W  │   │   │   │\n",
      "│ @^│   │   │   │   │   │\n",
      "└───┴───┴───┴───┴───┴───┘\n"
     ]
    }
   ],
   "source": [
    "random_world = wumpus.WumpusWorld.classic(size=6)\n",
    "print(random_world)"
   ]
  },
  {
   "attachments": {},
   "cell_type": "markdown",
   "metadata": {},
   "source": [
    "To show the JSON configuration file you can use the `umpus.WumpusWorld.to_JSONs` method:"
   ]
  },
  {
   "cell_type": "code",
   "execution_count": 20,
   "metadata": {},
   "outputs": [
    {
     "name": "stdout",
     "output_type": "stream",
     "text": [
      "{\"size\": [6, 6], \"hunters\": [[0, 0, \"N\"]], \"pits\": [[0, 1], [2, 1], [5, 1], [3, 2], [1, 3], [2, 3], [3, 3], [3, 4], [5, 4], [5, 5]], \"wumpuses\": [[4, 4]], \"exits\": [[0, 0]], \"golds\": [[5, 4]]}\n"
     ]
    }
   ],
   "source": [
    "print(random_world.to_JSONs())"
   ]
  },
  {
   "cell_type": "markdown",
   "metadata": {},
   "source": [
    "## Testing your agent\n",
    "\n",
    "You can use the `wumpus.run_episode` to test your agent, the output is a dictionary with the details of the game.\n",
    "\n",
    "**Beware**: do not play twice the game on the same world object because playing changes its status and results can be unpredictable. Better create a new one each time (see below)."
   ]
  },
  {
   "cell_type": "code",
   "execution_count": 21,
   "metadata": {},
   "outputs": [
    {
     "name": "stdout",
     "output_type": "stream",
     "text": [
      "Help on function run_episode in module wumpus.runner:\n",
      "\n",
      "run_episode(world: wumpus.gridworld.GridWorld, player: Union[wumpus.player.OnlinePlayer, wumpus.player.OfflinePlayer], agent: wumpus.gridworld.Agent = None, horizon: int = 0, show=True, outf: io.TextIOBase = None) -> Dict[str, Any]\n",
      "    Run an episode on the world using the player to control the agent. The horizon specifies the maximum number of steps, 0 or None means no limit. If show is true then the world is printed ad each iteration before the player's turn.\n",
      "    \n",
      "        Raise the exception GridWorldException is the agent is not in the world.\n",
      "    \n",
      "    Args:\n",
      "        world (GridWorld): the world in which the episode is run\n",
      "        player (Player): the player\n",
      "        agent (Agent, optional): the agent controlled by the player. Defaults to first agent in the world\n",
      "        horizon (int, optional): stop after this number of steps, 0 for no limit. Defaults to 0.\n",
      "        show (bool, optional): whether to show the environment before a step. Defaults to True.\n",
      "        outf (TextIOBase, optional): writes output to the given stream. Defaults to stdout.\n",
      "    \n",
      "    Returns:\n",
      "        dictionary (JSON encodable) with the log of the game\n",
      "    \n",
      "    Raises:\n",
      "        GridWorldException: if there are problems with the world (e.g. there's no agent)\n",
      "\n"
     ]
    }
   ],
   "source": [
    "help(wumpus.run_episode)"
   ]
  },
  {
   "cell_type": "code",
   "execution_count": 33,
   "metadata": {},
   "outputs": [
    {
     "name": "stdout",
     "output_type": "stream",
     "text": [
      "Step 0: agent Hunter_1125d4f4 executing RIGHT -> reward -1\n",
      "Step 1: agent Hunter_1125d4f4 executing SHOOT -> reward -10\n",
      "Step 2: agent Hunter_1125d4f4 executing RIGHT -> reward -1\n",
      "Step 3: agent Hunter_1125d4f4 executing MOVE -> reward -1\n",
      "Step 4: agent Hunter_1125d4f4 executing LEFT -> reward -1\n",
      "Step 5: agent Hunter_1125d4f4 executing CLIMB -> reward -1\n",
      "The agent Hunter_1125d4f4 succeeded!\n",
      "┌───┬───┬───┬───┬───┬───┬───┐\n",
      "│   │   │   │   │  P│  P│   │\n",
      "│   │   │   │   │   │   │   │\n",
      "├───┼───┼───┼───┼───┼───┼───┤\n",
      "│   │   │   │  P│   │   │   │\n",
      "│   │   │   │   │   │   │   │\n",
      "├───┼───┼───┼───┼───┼───┼───┤\n",
      "│   │   │   │   │  P│   │   │\n",
      "│   │   │   │   │   │   │   │\n",
      "├───┼───┼───┼───┼───┼───┼───┤\n",
      "│   │   │   │ G │   │   │ G │\n",
      "│   │   │   │   │   │   │   │\n",
      "├───┼───┼───┼───┼───┼───┼───┤\n",
      "│   │W  │  P│   │   │   │  P│\n",
      "│   │   │   │   │   │   │   │\n",
      "├───┼───┼───┼───┼───┼───┼───┤\n",
      "│   │   │   │  P│   │   │   │\n",
      "│   │   │   │   │   │   │   │\n",
      "├───┼───┼───┼───┼───┼───┼───┤\n",
      "│   │   │   │   │  P│   │   │\n",
      "│ @>│   │   │   │   │   │   │\n",
      "└───┴───┴───┴───┴───┴───┴───┘\n",
      "Episode terminated with a reward of -15 for agent Hunter_1125d4f4\n"
     ]
    }
   ],
   "source": [
    "episode_result = wumpus.run_episode(wumpus.WumpusWorld.from_JSON(world_json), wumpus.RandomPlayer(), show=False, horizon=10)"
   ]
  },
  {
   "cell_type": "markdown",
   "metadata": {},
   "source": [
    "The result of an episode provides information about the world (`world` attribute), the sequence of actions (`actions`), the final reward (`reward`), the status of the agent (`alive`), and whether the maximum number of steps have been reached (`maxsteps`, according to the `horizon` parameter of `wumpus.run_episode`). Moreover, any exception within the player code should be trapped and reported (`exception`)."
   ]
  },
  {
   "cell_type": "code",
   "execution_count": 23,
   "metadata": {},
   "outputs": [
    {
     "data": {
      "text/plain": [
       "{'world': {'size': (7, 7),\n",
       "  'hunters': [(0, 0, 'N')],\n",
       "  'pits': [(4, 0), (3, 1), (2, 2), (6, 2), (4, 4), (3, 5), (4, 6), (5, 6)],\n",
       "  'wumpuses': [(1, 2)],\n",
       "  'exits': [(0, 0)],\n",
       "  'golds': [(6, 3), (3, 3)]},\n",
       " 'agent': 'Hunter_1125b954',\n",
       " 'player': 'RandomPlayer_1125ba29',\n",
       " 'actions': ['CLIMB'],\n",
       " 'exceptions': [],\n",
       " 'maxsteps': False,\n",
       " 'reward': -1,\n",
       " 'alive': True,\n",
       " 'success': True}"
      ]
     },
     "execution_count": 23,
     "metadata": {},
     "output_type": "execute_result"
    }
   ],
   "source": [
    "episode_result"
   ]
  },
  {
   "cell_type": "code",
   "execution_count": null,
   "metadata": {},
   "outputs": [],
   "source": []
  }
 ],
 "metadata": {
  "interpreter": {
   "hash": "e238ed82568763522dac3f9ad71a9c8d6b9500024dfa12bd64b36cc255a6bffe"
  },
  "kernelspec": {
   "display_name": "Python 3 (ipykernel)",
   "language": "python",
   "name": "python3"
  },
  "language_info": {
   "codemirror_mode": {
    "name": "ipython",
    "version": 3
   },
   "file_extension": ".py",
   "mimetype": "text/x-python",
   "name": "python",
   "nbconvert_exporter": "python",
   "pygments_lexer": "ipython3",
   "version": "3.10.10"
  }
 },
 "nbformat": 4,
 "nbformat_minor": 4
}
